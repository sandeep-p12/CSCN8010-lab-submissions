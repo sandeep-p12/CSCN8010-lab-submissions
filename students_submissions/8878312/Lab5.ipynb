{
 "cells": [
  {
   "cell_type": "markdown",
   "id": "7b049f8f-7664-4753-8548-e4f491f295f4",
   "metadata": {},
   "source": [
    "# Sandeep Pandey - 8878312 - Lab 5"
   ]
  },
  {
   "cell_type": "code",
   "execution_count": 15,
   "id": "fb667cd1-0d21-488d-b203-2f34bbb6b7d6",
   "metadata": {},
   "outputs": [],
   "source": [
    "import numpy as np\n",
    "import pandas as pd\n",
    "from sklearn.model_selection import cross_val_score\n",
    "from sklearn.linear_model import LinearRegression\n",
    "from sklearn.preprocessing import PolynomialFeatures\n",
    "from sklearn.datasets import load_diabetes\n",
    "from sklearn.metrics import mean_absolute_error, mean_absolute_percentage_error"
   ]
  },
  {
   "cell_type": "code",
   "execution_count": 16,
   "id": "4fab313f-a76e-4bc1-b1e7-637ca94a3884",
   "metadata": {},
   "outputs": [],
   "source": [
    "# Step 1: Load the diabetes dataset\n",
    "diabetes = load_diabetes()\n",
    "X, y = diabetes.data, diabetes.target"
   ]
  },
  {
   "cell_type": "code",
   "execution_count": 17,
   "id": "caba3568-b007-4da1-8c28-16c0ddb7d0d3",
   "metadata": {},
   "outputs": [],
   "source": [
    "# Initialize lists to store results\n",
    "degrees = list(range(9))\n",
    "r_squared = []\n",
    "mae = []\n",
    "mape = []"
   ]
  },
  {
   "cell_type": "code",
   "execution_count": 18,
   "id": "86b14962-a636-42f6-b8f8-5f4eb16a2ff0",
   "metadata": {},
   "outputs": [],
   "source": [
    "# Step 2 and 3: Generate polynomial features and perform cross-validation\n",
    "for degree in degrees:\n",
    "    poly = PolynomialFeatures(degree=degree)\n",
    "    X_poly = poly.fit_transform(X)\n",
    "    model = LinearRegression()\n",
    "    scores = cross_val_score(model, X_poly, y, cv=5, scoring='r2')\n",
    "    r_squared.append(np.mean(scores))\n",
    "    y_pred = np.mean(cross_val_score(model, X_poly, y, cv=5, scoring='neg_mean_absolute_error'))\n",
    "    mae.append(-y_pred)\n",
    "    y_pred = np.mean(cross_val_score(model, X_poly, y, cv=5, scoring='neg_mean_absolute_percentage_error'))\n",
    "    mape.append(-y_pred)"
   ]
  },
  {
   "cell_type": "code",
   "execution_count": 19,
   "id": "c81dd144-081c-4e4d-80e9-f51b45f3af85",
   "metadata": {},
   "outputs": [],
   "source": [
    "# Step 4: Create a DataFrame to store the results\n",
    "results_df = pd.DataFrame({\n",
    "    'Degree': degrees,\n",
    "    'R-Squared': r_squared,\n",
    "    'MAE': mae,\n",
    "    'MAPE': mape\n",
    "})"
   ]
  },
  {
   "cell_type": "code",
   "execution_count": 20,
   "id": "c4629f76-1569-452a-9fc7-c098a77fc888",
   "metadata": {},
   "outputs": [],
   "source": [
    "# Step 5: Calculate mean and standard deviation\n",
    "mean_values = results_df.mean()\n",
    "std_deviation = results_df.std()"
   ]
  },
  {
   "cell_type": "code",
   "execution_count": 21,
   "id": "4bd1efc0-3c7f-46e6-82d9-77cd62e552d9",
   "metadata": {},
   "outputs": [],
   "source": [
    "# Step 6: Identify the best model\n",
    "best_model = results_df.iloc[results_df['R-Squared'].idxmax()]"
   ]
  },
  {
   "cell_type": "code",
   "execution_count": 22,
   "id": "38f6a0e8-4a46-4c51-b239-7e94f3bb4695",
   "metadata": {},
   "outputs": [
    {
     "data": {
      "text/plain": [
       "Degree        1.000000\n",
       "R-Squared     0.482316\n",
       "MAE          44.276499\n",
       "MAPE          0.394860\n",
       "Name: 1, dtype: float64"
      ]
     },
     "execution_count": 22,
     "metadata": {},
     "output_type": "execute_result"
    }
   ],
   "source": [
    "# Best model parmeters\n",
    "results_df.iloc[results_df['R-Squared'].idxmax()]"
   ]
  },
  {
   "cell_type": "code",
   "execution_count": 25,
   "id": "138d3074-7925-4fcb-9992-2220a5bdb35d",
   "metadata": {},
   "outputs": [
    {
     "data": {
      "text/html": [
       "<div>\n",
       "<style scoped>\n",
       "    .dataframe tbody tr th:only-of-type {\n",
       "        vertical-align: middle;\n",
       "    }\n",
       "\n",
       "    .dataframe tbody tr th {\n",
       "        vertical-align: top;\n",
       "    }\n",
       "\n",
       "    .dataframe thead th {\n",
       "        text-align: right;\n",
       "    }\n",
       "</style>\n",
       "<table border=\"1\" class=\"dataframe\">\n",
       "  <thead>\n",
       "    <tr style=\"text-align: right;\">\n",
       "      <th></th>\n",
       "      <th>Degree</th>\n",
       "      <th>R-Squared</th>\n",
       "      <th>MAE</th>\n",
       "      <th>MAPE</th>\n",
       "    </tr>\n",
       "  </thead>\n",
       "  <tbody>\n",
       "    <tr>\n",
       "      <th>0</th>\n",
       "      <td>0</td>\n",
       "      <td>-0.027506</td>\n",
       "      <td>66.045624</td>\n",
       "      <td>0.623622</td>\n",
       "    </tr>\n",
       "    <tr>\n",
       "      <th>1</th>\n",
       "      <td>1</td>\n",
       "      <td>0.482316</td>\n",
       "      <td>44.276499</td>\n",
       "      <td>0.394860</td>\n",
       "    </tr>\n",
       "    <tr>\n",
       "      <th>2</th>\n",
       "      <td>2</td>\n",
       "      <td>0.391502</td>\n",
       "      <td>46.612882</td>\n",
       "      <td>0.402669</td>\n",
       "    </tr>\n",
       "    <tr>\n",
       "      <th>3</th>\n",
       "      <td>3</td>\n",
       "      <td>-183.550427</td>\n",
       "      <td>341.013011</td>\n",
       "      <td>2.342632</td>\n",
       "    </tr>\n",
       "    <tr>\n",
       "      <th>4</th>\n",
       "      <td>4</td>\n",
       "      <td>-70.667516</td>\n",
       "      <td>303.158461</td>\n",
       "      <td>2.453685</td>\n",
       "    </tr>\n",
       "    <tr>\n",
       "      <th>5</th>\n",
       "      <td>5</td>\n",
       "      <td>-67.387407</td>\n",
       "      <td>295.686026</td>\n",
       "      <td>2.405233</td>\n",
       "    </tr>\n",
       "    <tr>\n",
       "      <th>6</th>\n",
       "      <td>6</td>\n",
       "      <td>-67.448908</td>\n",
       "      <td>295.632654</td>\n",
       "      <td>2.404961</td>\n",
       "    </tr>\n",
       "    <tr>\n",
       "      <th>7</th>\n",
       "      <td>7</td>\n",
       "      <td>-67.448503</td>\n",
       "      <td>295.630255</td>\n",
       "      <td>2.404951</td>\n",
       "    </tr>\n",
       "    <tr>\n",
       "      <th>8</th>\n",
       "      <td>8</td>\n",
       "      <td>-67.446928</td>\n",
       "      <td>295.605950</td>\n",
       "      <td>2.404757</td>\n",
       "    </tr>\n",
       "  </tbody>\n",
       "</table>\n",
       "</div>"
      ],
      "text/plain": [
       "   Degree   R-Squared         MAE      MAPE\n",
       "0       0   -0.027506   66.045624  0.623622\n",
       "1       1    0.482316   44.276499  0.394860\n",
       "2       2    0.391502   46.612882  0.402669\n",
       "3       3 -183.550427  341.013011  2.342632\n",
       "4       4  -70.667516  303.158461  2.453685\n",
       "5       5  -67.387407  295.686026  2.405233\n",
       "6       6  -67.448908  295.632654  2.404961\n",
       "7       7  -67.448503  295.630255  2.404951\n",
       "8       8  -67.446928  295.605950  2.404757"
      ]
     },
     "execution_count": 25,
     "metadata": {},
     "output_type": "execute_result"
    }
   ],
   "source": [
    "results_df"
   ]
  },
  {
   "cell_type": "markdown",
   "id": "cc0bed1b-eeab-465a-b28d-05fb50f84af9",
   "metadata": {},
   "source": [
    "### R-Squared (Coefficient of Determination):\n",
    "Degree 1 has the highest R-Squared value of approximately 0.4823. This indicates that the model explains about 48.23% of the variance in the target variable, which is a moderate level of predictive power.\n",
    "Degree 2 also has a respectable R-Squared value of about 0.3915, meaning it explains around 39.15% of the variance.\n",
    "However, starting from Degree 3 onwards, the R-Squared values become highly negative. This indicates that these models perform much worse than a simple horizontal line (a horizontal line would have an R-Squared of 0). These models likely suffer from overfitting, fitting the training data very poorly, and are not able to generalize well to unseen data.\n",
    "\n",
    "### Mean Absolute Error (MAE):\n",
    "Degree 1 has the lowest MAE among all models, which suggests it has the smallest average absolute difference between predicted and actual values. This indicates that the linear model (degree 1) provides the most accurate predictions on average.\n",
    "Degree 2 follows with a slightly higher MAE, but it is still lower than the MAE of higher-degree models.\n",
    "As the degree of the polynomial increases beyond 2, the MAE increases dramatically, indicating that these models are performing poorly in terms of absolute prediction accuracy.\n",
    "\n",
    "### Mean Absolute Percentage Error (MAPE):\n",
    "Degree 1 has the lowest MAPE, indicating it has the smallest average percentage difference between predicted and actual values.\n",
    "Degree 2 follows with a slightly higher MAPE, but it is still lower than the MAPE of higher-degree models.\n",
    "Like MAE, as the degree of the polynomial increases beyond 2, the MAPE increases significantly, indicating that these models have higher relative prediction errors."
   ]
  },
  {
   "cell_type": "markdown",
   "id": "9b22c8f8-88fe-4b11-93b3-0d1aee99ed0a",
   "metadata": {},
   "source": [
    "### Insights:\n",
    "The best-performing model, based on the provided metrics, is Degree 1. It exhibits the highest R-Squared, and the lowest MAE and MAPE values, indicating better overall predictive performance compared to higher-degree models.\n",
    "\n",
    "The models from Degree 3 onwards exhibit extremely poor performance. They have highly negative R-Squared values and very high MAE and MAPE values. This suggests that they are likely overfitting to the training data and failing to generalize to new data.\n",
    "\n",
    "The high-degree polynomial models (3rd degree and above) are likely suffering from overfitting. They are fitting the training data too closely, capturing noise rather than the underlying pattern."
   ]
  },
  {
   "cell_type": "code",
   "execution_count": null,
   "id": "b389c2de-b248-4c3c-a00e-8cd5cd5fd70a",
   "metadata": {},
   "outputs": [],
   "source": []
  }
 ],
 "metadata": {
  "kernelspec": {
   "display_name": "Python 3 (ipykernel)",
   "language": "python",
   "name": "python3"
  },
  "language_info": {
   "codemirror_mode": {
    "name": "ipython",
    "version": 3
   },
   "file_extension": ".py",
   "mimetype": "text/x-python",
   "name": "python",
   "nbconvert_exporter": "python",
   "pygments_lexer": "ipython3",
   "version": "3.9.18"
  }
 },
 "nbformat": 4,
 "nbformat_minor": 5
}
