{
 "cells": [
  {
   "cell_type": "markdown",
   "id": "b11eefdd-ae10-4563-8947-39bf057ff30f",
   "metadata": {},
   "source": [
    "# Lab 4\n",
    "# Sandeep Pandey - 8878312"
   ]
  },
  {
   "cell_type": "code",
   "execution_count": 1,
   "id": "335b558a-362b-465a-b23c-32173ff1510a",
   "metadata": {},
   "outputs": [],
   "source": [
    "from sklearn.datasets import load_diabetes\n",
    "from sklearn.model_selection import train_test_split\n",
    "from sklearn.linear_model import LinearRegression\n",
    "from sklearn.preprocessing import PolynomialFeatures\n",
    "from sklearn.metrics import r2_score, mean_absolute_error, mean_absolute_percentage_error"
   ]
  },
  {
   "cell_type": "code",
   "execution_count": 2,
   "id": "6a9d179c-f9ac-41f2-9b98-d0741c8ccb13",
   "metadata": {},
   "outputs": [],
   "source": [
    "# Load the Diabetes dataset\n",
    "diabetes_data = load_diabetes(as_frame=True)\n",
    "X = diabetes_data['data']\n",
    "y = diabetes_data['target']\n",
    "\n",
    "# Train-validation-test split\n",
    "X_train, X_temp, y_train, y_temp = train_test_split(X, y, test_size=0.3, random_state=42)\n",
    "X_val, X_test, y_val, y_test = train_test_split(X_temp, y_temp, test_size=0.5, random_state=42)"
   ]
  },
  {
   "cell_type": "code",
   "execution_count": 16,
   "id": "9626bdd0-054b-4f5b-a8d6-a43246551c22",
   "metadata": {},
   "outputs": [
    {
     "data": {
      "text/plain": [
       "LinearRegression()"
      ]
     },
     "execution_count": 16,
     "metadata": {},
     "output_type": "execute_result"
    }
   ],
   "source": [
    "# Multivariate Linear Regression\n",
    "linear_model = LinearRegression()\n",
    "linear_model.fit(X_train, y_train)\n",
    "\n",
    "# Polynomial Regression of 2nd Degree on BMI\n",
    "bmi_poly = PolynomialFeatures(degree=2, include_bias=False)\n",
    "X_bmi_poly = bmi_poly.fit_transform(X_train['bmi'].values.reshape(-1, 1))\n",
    "poly_bmi_model = LinearRegression()\n",
    "poly_bmi_model.fit(X_bmi_poly, y_train)"
   ]
  },
  {
   "cell_type": "code",
   "execution_count": 17,
   "id": "a9ff8f70-9f95-49f0-ac72-a0fadc65dc9d",
   "metadata": {},
   "outputs": [
    {
     "data": {
      "text/plain": [
       "LinearRegression()"
      ]
     },
     "execution_count": 17,
     "metadata": {},
     "output_type": "execute_result"
    }
   ],
   "source": [
    "# Multivariate Polynomial Regression of 2nd Degree\n",
    "poly_features = PolynomialFeatures(degree=2, include_bias=False)\n",
    "X_poly = poly_features.fit_transform(X_train)\n",
    "poly_model = LinearRegression()\n",
    "poly_model.fit(X_poly, y_train)"
   ]
  },
  {
   "cell_type": "code",
   "execution_count": 21,
   "id": "215cd042-4a6a-40cf-89f4-940b413b0632",
   "metadata": {},
   "outputs": [
    {
     "name": "stdout",
     "output_type": "stream",
     "text": [
      "Multivariate Linear Regression:\n",
      "R-squared: 0.5112606807552806, MAE: 38.21679949379056, MAPE: 0.34616633675614844\n",
      "\n",
      "Polynomial Regression of 2nd Degree on BMI:\n",
      "R-squared: 0.29622305527298465, MAE: 48.27302777867063, MAPE: 0.4190243458933215\n",
      "\n",
      "Multivariate Polynomial Regression of 2nd Degree:\n",
      "R-squared: 0.3665161345216754, MAE: 42.47818716668599, MAPE: 0.3809723180165827\n"
     ]
    }
   ],
   "source": [
    "# Step 3: Model Evaluation\n",
    "def evaluate_model(model, X, y):\n",
    "    y_pred = model.predict(X)\n",
    "    r2 = r2_score(y, y_pred)\n",
    "    mae = mean_absolute_error(y, y_pred)\n",
    "    mape = mean_absolute_percentage_error(y, y_pred)\n",
    "    return r2, mae, mape\n",
    "\n",
    "linear_r2, linear_mae, linear_mape = evaluate_model(linear_model, X_val, y_val)\n",
    "poly_bmi_r2, poly_bmi_mae, poly_bmi_mape = evaluate_model(poly_bmi_model, bmi_poly.transform(X_val['bmi'].values.reshape(-1, 1)), y_val)\n",
    "poly_r2, poly_mae, poly_mape = evaluate_model(poly_model, poly_features.transform(X_val), y_val)\n",
    "\n",
    "# Printing the results\n",
    "print(\"Multivariate Linear Regression:\")\n",
    "print(f\"R-squared: {linear_r2}, MAE: {linear_mae}, MAPE: {linear_mape}\")\n",
    "\n",
    "print(\"\\nPolynomial Regression of 2nd Degree on BMI:\")\n",
    "print(f\"R-squared: {poly_bmi_r2}, MAE: {poly_bmi_mae}, MAPE: {poly_bmi_mape}\")\n",
    "\n",
    "print(\"\\nMultivariate Polynomial Regression of 2nd Degree:\")\n",
    "print(f\"R-squared: {poly_r2}, MAE: {poly_mae}, MAPE: {poly_mape}\")"
   ]
  },
  {
   "cell_type": "code",
   "execution_count": 23,
   "id": "6713d77d-7bb0-486b-a726-9c7da27ffdcc",
   "metadata": {},
   "outputs": [
    {
     "name": "stdout",
     "output_type": "stream",
     "text": [
      "\n",
      "Test Set Performance:\n",
      "Multivariate Linear Regression:\n",
      "R-squared: 0.44710298835010365, MAE: 45.56644720821204, MAPE: 0.3869652899172567\n",
      "\n",
      "Polynomial Regression of 2nd Degree on BMI:\n",
      "R-squared: 0.259067431590856, MAE: 53.084911736971435, MAPE: 0.45819301631136533\n",
      "\n",
      "Multivariate Polynomial Regression of 2nd Degree:\n",
      "R-squared: 0.4521167981327442, MAE: 46.004513397336346, MAPE: 0.39366397469993675\n",
      "\n",
      "Insights:\n",
      "R-squared values:\n",
      "Multivariate Linear Regression R-squared: 0.44710298835010365\n",
      "Polynomial Regression of 2nd Degree on BMI R-squared: 0.259067431590856\n",
      "Multivariate Polynomial Regression of 2nd Degree R-squared: 0.4521167981327442\n",
      "\n",
      "Mean Absolute Error (MAE):\n",
      "Multivariate Linear Regression MAE: 45.56644720821204\n",
      "Polynomial Regression of 2nd Degree on BMI MAE: 53.084911736971435\n",
      "Multivariate Polynomial Regression of 2nd Degree MAE: 46.004513397336346\n",
      "\n",
      "Mean Absolute Percentage Error (MAPE):\n",
      "Multivariate Linear Regression MAPE: 0.3869652899172567\n",
      "Polynomial Regression of 2nd Degree on BMI MAPE: 0.45819301631136533\n",
      "Multivariate Polynomial Regression of 2nd Degree MAPE: 0.39366397469993675\n"
     ]
    }
   ],
   "source": [
    "linear_test_r2, linear_test_mae, linear_test_mape = evaluate_model(linear_model, X_test, y_test)\n",
    "poly_bmi_test_r2, poly_bmi_test_mae, poly_bmi_test_mape = evaluate_model(poly_bmi_model, bmi_poly.transform(X_test['bmi'].values.reshape(-1, 1)), y_test)\n",
    "poly_test_r2, poly_test_mae, poly_test_mape = evaluate_model(poly_model, poly_features.transform(X_test), y_test)\n",
    "\n",
    "print(\"\\nTest Set Performance:\")\n",
    "\n",
    "print(\"Multivariate Linear Regression:\")\n",
    "print(f\"R-squared: {linear_test_r2}, MAE: {linear_test_mae}, MAPE: {linear_test_mape}\")\n",
    "\n",
    "print(\"\\nPolynomial Regression of 2nd Degree on BMI:\")\n",
    "print(f\"R-squared: {poly_bmi_test_r2}, MAE: {poly_bmi_test_mae}, MAPE: {poly_bmi_test_mape}\")\n",
    "\n",
    "print(\"\\nMultivariate Polynomial Regression of 2nd Degree:\")\n",
    "print(f\"R-squared: {poly_test_r2}, MAE: {poly_test_mae}, MAPE: {poly_test_mape}\")\n",
    "\n",
    "# Insights and Comparison\n",
    "# Let's compare the models based on their performance\n",
    "\n",
    "# R-squared values\n",
    "print(\"\\nInsights:\")\n",
    "print(\"R-squared values:\")\n",
    "print(f\"Multivariate Linear Regression R-squared: {linear_test_r2}\")\n",
    "print(f\"Polynomial Regression of 2nd Degree on BMI R-squared: {poly_bmi_test_r2}\")\n",
    "print(f\"Multivariate Polynomial Regression of 2nd Degree R-squared: {poly_test_r2}\")\n",
    "\n",
    "# MAE values\n",
    "print(\"\\nMean Absolute Error (MAE):\")\n",
    "print(f\"Multivariate Linear Regression MAE: {linear_test_mae}\")\n",
    "print(f\"Polynomial Regression of 2nd Degree on BMI MAE: {poly_bmi_test_mae}\")\n",
    "print(f\"Multivariate Polynomial Regression of 2nd Degree MAE: {poly_test_mae}\")\n",
    "\n",
    "# MAPE values\n",
    "print(\"\\nMean Absolute Percentage Error (MAPE):\")\n",
    "print(f\"Multivariate Linear Regression MAPE: {linear_test_mape}\")\n",
    "print(f\"Polynomial Regression of 2nd Degree on BMI MAPE: {poly_bmi_test_mape}\")\n",
    "print(f\"Multivariate Polynomial Regression of 2nd Degree MAPE: {poly_test_mape}\")"
   ]
  },
  {
   "cell_type": "markdown",
   "id": "22a5ce93-c69f-48da-b2a4-6f6c7d24b36f",
   "metadata": {},
   "source": [
    "## How many parameters are we fitting for each of the three models?\n",
    "\n",
    "Multivariate Linear Regression: There are 10 features. Additionally, there is one intercept term. So, the total number of parameters in this model is 11 (10 for features + 1 for intercept).\n",
    "\n",
    "Polynomial Regression of 2nd Degree on BMI: In this case, we're creating polynomial features for BMI up to the 2nd degree. This involves creating a quadratic term for BMI. So, there are three parameters in this model: BMI, BMI^2, and the intercept term.\n",
    "\n",
    "Multivariate Polynomial Regression of 2nd Degree: 65 Features"
   ]
  },
  {
   "cell_type": "markdown",
   "id": "b6d0c424-f363-4cb6-93ed-137f4533017c",
   "metadata": {},
   "source": [
    "## Which model would you choose for deployment, and why?\n",
    "\n",
    "The Multivariate Polynomial Regression of 2nd Degree has the highest R-squared value (0.452), indicating that it explains more of the variance in the target variable compared to the other models. This means it captures the relationships in the data better.\n",
    "\n",
    "The Multivariate Linear Regression has the lowest MAE (45.57), indicating that, on average, its predictions are closest to the actual values.\n",
    "\n",
    "Given these results, I would choose the Multivariate Polynomial Regression of 2nd Degree for deployment. It provides a good balance between capturing the underlying patterns in the data (high R-squared) and making accurate predictions (relatively low MAE). Additionally, it doesn't introduce unnecessary complexity as compared to the polynomial regression on BMI."
   ]
  },
  {
   "cell_type": "code",
   "execution_count": 27,
   "id": "8d19e166-b6af-4ef8-adb9-b0386b9865ee",
   "metadata": {},
   "outputs": [
    {
     "data": {
      "text/plain": [
       "65"
      ]
     },
     "execution_count": 27,
     "metadata": {},
     "output_type": "execute_result"
    }
   ],
   "source": [
    "len(poly_features.get_feature_names_out())"
   ]
  },
  {
   "cell_type": "code",
   "execution_count": null,
   "id": "c1b589b5-cd66-409b-bf84-0fe6b7ad7082",
   "metadata": {},
   "outputs": [],
   "source": []
  }
 ],
 "metadata": {
  "kernelspec": {
   "display_name": "Python 3 (ipykernel)",
   "language": "python",
   "name": "python3"
  },
  "language_info": {
   "codemirror_mode": {
    "name": "ipython",
    "version": 3
   },
   "file_extension": ".py",
   "mimetype": "text/x-python",
   "name": "python",
   "nbconvert_exporter": "python",
   "pygments_lexer": "ipython3",
   "version": "3.7.16"
  }
 },
 "nbformat": 4,
 "nbformat_minor": 5
}
