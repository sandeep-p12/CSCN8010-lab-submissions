{
  "nbformat": 4,
  "nbformat_minor": 0,
  "metadata": {
    "colab": {
      "provenance": []
    },
    "kernelspec": {
      "name": "python3",
      "display_name": "Python 3"
    },
    "language_info": {
      "name": "python"
    }
  },
  "cells": [
    {
      "cell_type": "markdown",
      "source": [
        "# Lab 8 - Sandeep Pandey - 8878312"
      ],
      "metadata": {
        "id": "umyA8lGh5Uth"
      }
    },
    {
      "cell_type": "code",
      "source": [
        "import torch"
      ],
      "metadata": {
        "id": "Ya2W5YRR5V10"
      },
      "execution_count": 1,
      "outputs": []
    },
    {
      "cell_type": "code",
      "source": [
        "# PyTorch: Dot product of two vectors\n",
        "vector1_torch = torch.tensor([1, 2, 3])\n",
        "vector2_torch = torch.tensor([4, 5, 6])\n",
        "dot_product_torch = torch.dot(vector1_torch, vector2_torch)\n",
        "\n",
        "# PyTorch: Matrix multiplication of two matrices\n",
        "matrix1_torch = torch.tensor([[1, 2], [3, 4]])\n",
        "matrix2_torch = torch.tensor([[5, 6], [7, 8]])\n",
        "matrix_multiplication_torch = torch.mm(matrix1_torch, matrix2_torch)"
      ],
      "metadata": {
        "id": "inZX_gH95XcX"
      },
      "execution_count": 2,
      "outputs": []
    },
    {
      "cell_type": "code",
      "source": [
        "dot_product_torch, matrix_multiplication_torch"
      ],
      "metadata": {
        "colab": {
          "base_uri": "https://localhost:8080/",
          "height": 0
        },
        "id": "RjFO2m3u5Zlp",
        "outputId": "757c3aad-3509-436f-ab3d-e6324e2f475e"
      },
      "execution_count": 3,
      "outputs": [
        {
          "output_type": "execute_result",
          "data": {
            "text/plain": [
              "(tensor(32),\n",
              " tensor([[19, 22],\n",
              "         [43, 50]]))"
            ]
          },
          "metadata": {},
          "execution_count": 3
        }
      ]
    },
    {
      "cell_type": "code",
      "source": [
        "import tensorflow as tf"
      ],
      "metadata": {
        "id": "08WCg_J85bjN"
      },
      "execution_count": 4,
      "outputs": []
    },
    {
      "cell_type": "code",
      "source": [
        "# TensorFlow: Dot product of two vectors\n",
        "vector1_tf = tf.constant([1, 2, 3], dtype=tf.float32)\n",
        "vector2_tf = tf.constant([4, 5, 6], dtype=tf.float32)\n",
        "dot_product_tf = tf.tensordot(vector1_tf, vector2_tf, axes=1)\n",
        "\n",
        "# TensorFlow: Matrix multiplication of two matrices\n",
        "matrix1_tf = tf.constant([[1, 2], [3, 4]], dtype=tf.float32)\n",
        "matrix2_tf = tf.constant([[5, 6], [7, 8]], dtype=tf.float32)\n",
        "matrix_multiplication_tf = tf.matmul(matrix1_tf, matrix2_tf)"
      ],
      "metadata": {
        "id": "87Dbpxh65dxn"
      },
      "execution_count": 5,
      "outputs": []
    },
    {
      "cell_type": "code",
      "source": [
        "dot_product_tf, matrix_multiplication_tf"
      ],
      "metadata": {
        "colab": {
          "base_uri": "https://localhost:8080/",
          "height": 0
        },
        "id": "fA0y9h-K5fpi",
        "outputId": "46ff8082-b268-4c45-9490-98b6e3fbfa87"
      },
      "execution_count": 6,
      "outputs": [
        {
          "output_type": "execute_result",
          "data": {
            "text/plain": [
              "(<tf.Tensor: shape=(), dtype=float32, numpy=32.0>,\n",
              " <tf.Tensor: shape=(2, 2), dtype=float32, numpy=\n",
              " array([[19., 22.],\n",
              "        [43., 50.]], dtype=float32)>)"
            ]
          },
          "metadata": {},
          "execution_count": 6
        }
      ]
    },
    {
      "cell_type": "code",
      "source": [],
      "metadata": {
        "id": "kEnbFPqE5iPr"
      },
      "execution_count": null,
      "outputs": []
    }
  ]
}